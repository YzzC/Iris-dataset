{
 "cells": [
  {
   "cell_type": "code",
   "execution_count": 1,
   "metadata": {},
   "outputs": [],
   "source": [
    "from sklearn.datasets import load_iris\n",
    "from sklearn.model_selection import train_test_split\n",
    "from sklearn.neighbors import KNeighborsClassifier\n",
    "from sklearn.model_selection import cross_val_score\n",
    "from sklearn.metrics import confusion_matrix, accuracy_score\n",
    "from sklearn.tree import DecisionTreeClassifier\n",
    "import seaborn as sns\n",
    "from sklearn import svm\n",
    "import numpy as np\n",
    "import pandas as pd\n",
    "import matplotlib.pyplot as plt\n",
    "from sklearn import metrics"
   ]
  },
  {
   "cell_type": "code",
   "execution_count": 2,
   "metadata": {},
   "outputs": [
    {
     "name": "stdout",
     "output_type": "stream",
     "text": [
      "(120, 4)\n",
      "(30, 4)\n"
     ]
    }
   ],
   "source": [
    "# load data\n",
    "iris = load_iris()\n",
    "X = iris.data\n",
    "y = iris.target\n",
    "\n",
    "X_trainvalidation, X_test, y_trainvalidation, y_test = train_test_split(X,y,test_size=0.2,random_state=42)\n",
    "print(X_trainvalidation.shape)\n",
    "print(X_test.shape)"
   ]
  },
  {
   "cell_type": "code",
   "execution_count": 3,
   "metadata": {},
   "outputs": [],
   "source": [
    "nb_trees = [5, 10, 50, 150, 200]\n",
    "mx_depth = [3, 5, 10, None]"
   ]
  },
  {
   "cell_type": "code",
   "execution_count": 4,
   "metadata": {},
   "outputs": [
    {
     "name": "stdout",
     "output_type": "stream",
     "text": [
      "[0.91666667 1.         1.         1.         0.75       0.83333333\n",
      " 1.         1.         0.91666667 0.91666667]\n",
      "[0.91666667 1.         1.         1.         0.66666667 0.83333333\n",
      " 1.         0.91666667 0.91666667 0.91666667]\n",
      "[0.91666667 1.         1.         1.         0.66666667 0.83333333\n",
      " 1.         0.91666667 1.         0.91666667]\n",
      "[0.91666667 1.         1.         1.         0.66666667 0.83333333\n",
      " 1.         0.91666667 1.         0.91666667]\n"
     ]
    }
   ],
   "source": [
    "# Decision Tree\n",
    "decision_tree_scores = []\n",
    "for md in mx_depth:\n",
    "    clf_decision = DecisionTreeClassifier(max_depth=md, random_state=42)\n",
    "    temp_score = cross_val_score(clf_decision, X_trainvalidation, y_trainvalidation, cv=10)\n",
    "    decision_tree_scores.append(np.average(temp_score))\n",
    "    print(temp_score)"
   ]
  },
  {
   "cell_type": "code",
   "execution_count": 5,
   "metadata": {},
   "outputs": [
    {
     "data": {
      "text/plain": [
       "[0.9333333333333332,\n",
       " 0.9166666666666666,\n",
       " 0.9249999999999998,\n",
       " 0.9249999999999998]"
      ]
     },
     "execution_count": 5,
     "metadata": {},
     "output_type": "execute_result"
    }
   ],
   "source": [
    "decision_tree_scores"
   ]
  },
  {
   "cell_type": "code",
   "execution_count": 6,
   "metadata": {},
   "outputs": [
    {
     "name": "stdout",
     "output_type": "stream",
     "text": [
      "The max depth:3\n",
      "The mean accuracy:0.9333333333333332\n"
     ]
    }
   ],
   "source": [
    "# best decision trees\n",
    "best_dt = np.argmax(decision_tree_scores)\n",
    "best_depth = mx_depth[best_dt]\n",
    "print('The max depth:' + str(best_depth))\n",
    "print('The mean accuracy:' + str(max(decision_tree_scores)))"
   ]
  },
  {
   "cell_type": "code",
   "execution_count": 7,
   "metadata": {},
   "outputs": [
    {
     "data": {
      "text/plain": [
       "Text(0, 0.5, 'Mean accuracy')"
      ]
     },
     "execution_count": 7,
     "metadata": {},
     "output_type": "execute_result"
    },
    {
     "data": {
      "image/png": "[encoded data removed]",
      "text/plain": [
       "<Figure size 432x288 with 1 Axes>"
      ]
     },
     "metadata": {
      "needs_background": "light"
     },
     "output_type": "display_data"
    }
   ],
   "source": [
    "plt.plot(mx_depth, decision_tree_scores)\n",
    "plt.xlabel('Max depth')\n",
    "plt.ylabel('Mean accuracy')"
   ]
  },
  {
   "cell_type": "markdown",
   "metadata": {},
   "source": [
    "Decision Tree: The max depth is 3. The mean accuracy is 0.93"
   ]
  },
  {
   "cell_type": "code",
   "execution_count": 8,
   "metadata": {},
   "outputs": [
    {
     "name": "stdout",
     "output_type": "stream",
     "text": [
      "3,5,[1.         1.         1.         1.         0.75       0.91666667\n",
      " 0.91666667 1.         1.         0.83333333]\n",
      "5,5,[1.         1.         1.         1.         0.75       0.83333333\n",
      " 0.91666667 1.         1.         0.91666667]\n",
      "10,5,[1.         1.         1.         1.         0.75       0.83333333\n",
      " 0.91666667 1.         1.         0.91666667]\n",
      "None,5,[1.         1.         1.         1.         0.75       0.83333333\n",
      " 0.91666667 1.         1.         0.91666667]\n",
      "3,10,[1.         1.         1.         1.         0.66666667 0.91666667\n",
      " 0.91666667 1.         1.         0.91666667]\n",
      "5,10,[0.91666667 1.         1.         1.         0.66666667 0.83333333\n",
      " 0.91666667 1.         1.         0.91666667]\n",
      "10,10,[0.91666667 1.         1.         1.         0.66666667 0.83333333\n",
      " 0.91666667 0.91666667 1.         0.91666667]\n",
      "None,10,[0.91666667 1.         1.         1.         0.66666667 0.83333333\n",
      " 0.91666667 0.91666667 1.         0.91666667]\n",
      "3,50,[1.         1.         1.         1.         0.66666667 0.91666667\n",
      " 1.         1.         1.         0.91666667]\n",
      "5,50,[0.91666667 1.         1.         1.         0.66666667 0.83333333\n",
      " 1.         1.         1.         0.91666667]\n",
      "10,50,[0.91666667 1.         1.         1.         0.66666667 0.83333333\n",
      " 1.         1.         1.         0.91666667]\n",
      "None,50,[0.91666667 1.         1.         1.         0.66666667 0.83333333\n",
      " 1.         1.         1.         0.91666667]\n",
      "3,150,[0.91666667 1.         1.         1.         0.66666667 0.91666667\n",
      " 1.         1.         1.         0.91666667]\n",
      "5,150,[0.91666667 1.         0.91666667 1.         0.66666667 0.83333333\n",
      " 1.         1.         1.         0.91666667]\n",
      "10,150,[0.91666667 1.         0.91666667 1.         0.66666667 0.83333333\n",
      " 1.         1.         1.         0.91666667]\n",
      "None,150,[0.91666667 1.         0.91666667 1.         0.66666667 0.83333333\n",
      " 1.         1.         1.         0.91666667]\n",
      "3,200,[0.91666667 1.         1.         1.         0.66666667 0.91666667\n",
      " 1.         1.         1.         0.91666667]\n",
      "5,200,[0.91666667 1.         1.         1.         0.66666667 0.83333333\n",
      " 1.         1.         1.         0.91666667]\n",
      "10,200,[0.91666667 1.         1.         1.         0.66666667 0.83333333\n",
      " 1.         1.         1.         0.91666667]\n",
      "None,200,[0.91666667 1.         1.         1.         0.66666667 0.83333333\n",
      " 1.         1.         1.         0.91666667]\n"
     ]
    }
   ],
   "source": [
    "#Random forest\n",
    "from sklearn.ensemble import RandomForestClassifier\n",
    "random_forest_scores = []\n",
    "for nt in nb_trees:\n",
    "    for md in mx_depth:\n",
    "        clf_decision = RandomForestClassifier(max_depth=md, n_estimators=nt, random_state=42)\n",
    "        temp_score = cross_val_score(clf_decision, X_trainvalidation, y_trainvalidation, cv=10)\n",
    "        random_forest_scores.append(np.average(temp_score))\n",
    "        print(str(md) + ',' + str(nt) +',' + str(temp_score))"
   ]
  },
  {
   "cell_type": "code",
   "execution_count": 9,
   "metadata": {},
   "outputs": [
    {
     "data": {
      "text/plain": [
       "[0.9416666666666667,\n",
       " 0.9416666666666667,\n",
       " 0.9416666666666667,\n",
       " 0.9416666666666667,\n",
       " 0.9416666666666667,\n",
       " 0.9249999999999998,\n",
       " 0.9166666666666666,\n",
       " 0.9166666666666666,\n",
       " 0.9499999999999998,\n",
       " 0.9333333333333332,\n",
       " 0.9333333333333332,\n",
       " 0.9333333333333332,\n",
       " 0.9416666666666667,\n",
       " 0.9249999999999998,\n",
       " 0.9249999999999998,\n",
       " 0.9249999999999998,\n",
       " 0.9416666666666667,\n",
       " 0.9333333333333332,\n",
       " 0.9333333333333332,\n",
       " 0.9333333333333332]"
      ]
     },
     "execution_count": 9,
     "metadata": {},
     "output_type": "execute_result"
    }
   ],
   "source": [
    "random_forest_scores"
   ]
  },
  {
   "cell_type": "code",
   "execution_count": 10,
   "metadata": {},
   "outputs": [
    {
     "data": {
      "text/plain": [
       "array([[0.94166667, 0.94166667, 0.94166667, 0.94166667],\n",
       "       [0.94166667, 0.925     , 0.91666667, 0.91666667],\n",
       "       [0.95      , 0.93333333, 0.93333333, 0.93333333],\n",
       "       [0.94166667, 0.925     , 0.925     , 0.925     ],\n",
       "       [0.94166667, 0.93333333, 0.93333333, 0.93333333]])"
      ]
     },
     "execution_count": 10,
     "metadata": {},
     "output_type": "execute_result"
    }
   ],
   "source": [
    "RF = np.array(random_forest_scores).reshape(5,4)\n",
    "RF"
   ]
  },
  {
   "cell_type": "code",
   "execution_count": 11,
   "metadata": {},
   "outputs": [
    {
     "name": "stdout",
     "output_type": "stream",
     "text": [
      "Depth:3\n",
      "Tree:50\n"
     ]
    }
   ],
   "source": [
    "# best random forest\n",
    "best_dt = np.argmax(random_forest_scores)\n",
    "best_depth = mx_depth[int(best_dt%4)]\n",
    "best_tree = nb_trees[int(best_dt/4)]\n",
    "print('Depth:' + str(best_depth))\n",
    "print('Tree:' + str(best_tree))"
   ]
  },
  {
   "cell_type": "code",
   "execution_count": 12,
   "metadata": {},
   "outputs": [
    {
     "data": {
      "text/plain": [
       "<matplotlib.axes._subplots.AxesSubplot at 0x1a1ca5bd10>"
      ]
     },
     "execution_count": 12,
     "metadata": {},
     "output_type": "execute_result"
    },
    {
     "data": {
      "image/png": "[encoded data removed]",
      "text/plain": [
       "<Figure size 432x288 with 2 Axes>"
      ]
     },
     "metadata": {
      "needs_background": "light"
     },
     "output_type": "display_data"
    }
   ],
   "source": [
    "x_axis_labels = [3, 5, 10, 'None'] \n",
    "y_axis_labels = [5, 10, 50, 150, 200]\n",
    "sns.heatmap(RF, xticklabels=x_axis_labels, yticklabels=y_axis_labels)"
   ]
  },
  {
   "cell_type": "markdown",
   "metadata": {},
   "source": [
    "Random Forest: The best depth is 3. The best number of tree is 50."
   ]
  },
  {
   "cell_type": "code",
   "execution_count": 13,
   "metadata": {},
   "outputs": [],
   "source": [
    "#Gradient Tree Boosting\n",
    "from sklearn.ensemble import GradientBoostingClassifier\n",
    "from sklearn.metrics import classification_report, confusion_matrix, roc_curve, auc\n",
    "nb_estimators = [5, 10, 50, 150, 200]\n",
    "gradient_tree_boosting_scores = []\n",
    "for nb in nb_estimators:\n",
    "    clf_decision = GradientBoostingClassifier(n_estimators=nb,random_state=42).fit(X_trainvalidation, y_trainvalidation)\n",
    "    temp_score = cross_val_score(clf_decision, X_trainvalidation, y_trainvalidation, cv=10)\n",
    "    gradient_tree_boosting_scores.append(np.average(temp_score))"
   ]
  },
  {
   "cell_type": "code",
   "execution_count": 14,
   "metadata": {},
   "outputs": [
    {
     "data": {
      "text/plain": [
       "[0.9333333333333332,\n",
       " 0.9333333333333332,\n",
       " 0.9249999999999998,\n",
       " 0.9249999999999998,\n",
       " 0.9249999999999998]"
      ]
     },
     "execution_count": 14,
     "metadata": {},
     "output_type": "execute_result"
    }
   ],
   "source": [
    "gradient_tree_boosting_scores"
   ]
  },
  {
   "cell_type": "code",
   "execution_count": 15,
   "metadata": {},
   "outputs": [
    {
     "name": "stdout",
     "output_type": "stream",
     "text": [
      "The estimators are 5 and 10\n",
      "The mean accuracy:0.9333333333333332\n"
     ]
    }
   ],
   "source": [
    "# best gradient tree boosting\n",
    "best_gtb = np.argmax(gradient_tree_boosting_scores)\n",
    "best_estimator = nb_estimators[best_gtb]\n",
    "print('The estimators are 5 and 10')\n",
    "print('The mean accuracy:' + str(max(gradient_tree_boosting_scores)))"
   ]
  },
  {
   "cell_type": "markdown",
   "metadata": {},
   "source": [
    "By comparing, the best estimator is 5. 5 is quicker than 10 and the accuracy is as good as 10."
   ]
  },
  {
   "cell_type": "code",
   "execution_count": 16,
   "metadata": {},
   "outputs": [
    {
     "data": {
      "text/plain": [
       "Text(0, 0.5, 'Mean accuracy')"
      ]
     },
     "execution_count": 16,
     "metadata": {},
     "output_type": "execute_result"
    },
    {
     "data": {
      "image/png": "[encoded data removed]",
      "text/plain": [
       "<Figure size 432x288 with 1 Axes>"
      ]
     },
     "metadata": {
      "needs_background": "light"
     },
     "output_type": "display_data"
    }
   ],
   "source": [
    "plt.plot(nb_estimators, gradient_tree_boosting_scores)\n",
    "plt.xlabel('Number of estimators')\n",
    "plt.ylabel('Mean accuracy')"
   ]
  },
  {
   "cell_type": "markdown",
   "metadata": {},
   "source": [
    "Gradient Tree Boosting: The best estimator is 5. The mean accuracy is 0.93"
   ]
  }
 ],
 "metadata": {
  "kernelspec": {
   "display_name": "Python 3",
   "language": "python",
   "name": "python3"
  },
  "language_info": {
   "codemirror_mode": {
    "name": "ipython",
    "version": 3
   },
   "file_extension": ".py",
   "mimetype": "text/x-python",
   "name": "python",
   "nbconvert_exporter": "python",
   "pygments_lexer": "ipython3",
   "version": "3.7.4"
  }
 },
 "nbformat": 4,
 "nbformat_minor": 2
}
